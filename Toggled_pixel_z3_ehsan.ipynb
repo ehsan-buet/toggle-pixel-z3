{
  "nbformat": 4,
  "nbformat_minor": 0,
  "metadata": {
    "colab": {
      "name": "Toggled pixel_z3_ehsan.ipynb",
      "provenance": [],
      "collapsed_sections": [
        "fP-TGQD-0m6I"
      ]
    },
    "kernelspec": {
      "name": "python3",
      "display_name": "Python 3"
    }
  },
  "cells": [
    {
      "cell_type": "markdown",
      "metadata": {
        "id": "zf_wd9qCnQnD"
      },
      "source": [
        "Please run all cells of the following 2 sections to load MNIST images, Trained weights and to set-up necessary functions  "
      ]
    },
    {
      "cell_type": "markdown",
      "metadata": {
        "id": "fP-TGQD-0m6I"
      },
      "source": [
        "## **Load image**"
      ]
    },
    {
      "cell_type": "code",
      "metadata": {
        "id": "__OsMRA-0m6K",
        "outputId": "a7fdd3c0-ea55-4b96-835b-3bb77f84a1d3",
        "colab": {
          "base_uri": "https://localhost:8080/",
          "height": 407,
          "referenced_widgets": [
            "e499fe852d41475fa8b79f5fa4df5eb8",
            "44b4843352674eb6b1066c854697cf4d",
            "2799c107f1d4483caccc2c93c9792094",
            "6f8bc54b6f85437a95f16853be39f29a",
            "a01511473bd64f6ca537b533d91e0c15",
            "288e92f38e364a13bfa23c6e6102af0d",
            "78ed7748e6ec4608adde3364e9d54433",
            "0a219e468c864b6281d007b788532f17",
            "94f1c16e852b488da00bef6b040f4d95",
            "24b6e15f1f89408398dada2b28ce6383",
            "59161d8c64f445169be466e6bee1b256",
            "17d2b7ba3c204f9891e70e57d7c40b24",
            "82fed392da194d969bb34df236cfc22d",
            "f66c30eb7490449abe8fed9913766ee6",
            "89bbb342c9a64346b886ed354baed955",
            "408d4e88d62a486e8bfa4a86c3315f94",
            "6060828b65054e6e965c97f40c9b044c",
            "7a7bb070d3324dac80c8f7f0ff958bf5",
            "2caed0726e1f43a1b993628af16d7bdd",
            "04ecfbb8dbdd49acb134ae3065c65990",
            "502d076e86434fe19d60e0022d96059f",
            "dab72cac49464c69ab06ee79c242947c",
            "41b69f7b702b4002a60333868d56a2ba",
            "9c493918be27484db41d87545ec46018",
            "6cd6ffa342b14662a44f6bbdc7262bd8",
            "bba96842ed0d42d797f5f9f48e853a4a",
            "e992bfdcc8c34bff8d133c6a8839d44d",
            "0d050829b8fe4d9c960f0b63c732cdfd",
            "382eb1c026f84a739d381c78f77ca89b",
            "7729b247d1de44c5957dfbb595154ba9",
            "c424f418fc0d4dada3ab3c873fda8f34",
            "565fc922272c41b885e6e107ebb47c66"
          ]
        }
      },
      "source": [
        "#loading 100 test images \n",
        "\n",
        "from torch.utils.data import DataLoader\n",
        "from torchvision import datasets, transforms\n",
        "transform = transforms.ToTensor()\n",
        "test_data =  datasets.MNIST(root='../Data', train=False, download=True, transform=transform)\n",
        "test_load_all = DataLoader(test_data, batch_size=100, shuffle=False)\n",
        "\n",
        "for X_test, y_test in test_load_all:\n",
        "  break\n"
      ],
      "execution_count": null,
      "outputs": [
        {
          "output_type": "stream",
          "text": [
            "Downloading http://yann.lecun.com/exdb/mnist/train-images-idx3-ubyte.gz to ../Data/MNIST/raw/train-images-idx3-ubyte.gz\n"
          ],
          "name": "stdout"
        },
        {
          "output_type": "display_data",
          "data": {
            "application/vnd.jupyter.widget-view+json": {
              "model_id": "e499fe852d41475fa8b79f5fa4df5eb8",
              "version_minor": 0,
              "version_major": 2
            },
            "text/plain": [
              "HBox(children=(FloatProgress(value=1.0, bar_style='info', max=1.0), HTML(value='')))"
            ]
          },
          "metadata": {
            "tags": []
          }
        },
        {
          "output_type": "stream",
          "text": [
            "Extracting ../Data/MNIST/raw/train-images-idx3-ubyte.gz to ../Data/MNIST/raw\n",
            "Downloading http://yann.lecun.com/exdb/mnist/train-labels-idx1-ubyte.gz to ../Data/MNIST/raw/train-labels-idx1-ubyte.gz\n"
          ],
          "name": "stdout"
        },
        {
          "output_type": "display_data",
          "data": {
            "application/vnd.jupyter.widget-view+json": {
              "model_id": "94f1c16e852b488da00bef6b040f4d95",
              "version_minor": 0,
              "version_major": 2
            },
            "text/plain": [
              "HBox(children=(FloatProgress(value=1.0, bar_style='info', max=1.0), HTML(value='')))"
            ]
          },
          "metadata": {
            "tags": []
          }
        },
        {
          "output_type": "stream",
          "text": [
            "Extracting ../Data/MNIST/raw/train-labels-idx1-ubyte.gz to ../Data/MNIST/raw\n",
            "Downloading http://yann.lecun.com/exdb/mnist/t10k-images-idx3-ubyte.gz to ../Data/MNIST/raw/t10k-images-idx3-ubyte.gz\n"
          ],
          "name": "stdout"
        },
        {
          "output_type": "display_data",
          "data": {
            "application/vnd.jupyter.widget-view+json": {
              "model_id": "6060828b65054e6e965c97f40c9b044c",
              "version_minor": 0,
              "version_major": 2
            },
            "text/plain": [
              "HBox(children=(FloatProgress(value=1.0, bar_style='info', max=1.0), HTML(value='')))"
            ]
          },
          "metadata": {
            "tags": []
          }
        },
        {
          "output_type": "stream",
          "text": [
            "Extracting ../Data/MNIST/raw/t10k-images-idx3-ubyte.gz to ../Data/MNIST/raw\n",
            "Downloading http://yann.lecun.com/exdb/mnist/t10k-labels-idx1-ubyte.gz to ../Data/MNIST/raw/t10k-labels-idx1-ubyte.gz\n",
            "\n",
            "\n"
          ],
          "name": "stdout"
        },
        {
          "output_type": "display_data",
          "data": {
            "application/vnd.jupyter.widget-view+json": {
              "model_id": "6cd6ffa342b14662a44f6bbdc7262bd8",
              "version_minor": 0,
              "version_major": 2
            },
            "text/plain": [
              "HBox(children=(FloatProgress(value=1.0, bar_style='info', max=1.0), HTML(value='')))"
            ]
          },
          "metadata": {
            "tags": []
          }
        },
        {
          "output_type": "stream",
          "text": [
            "Extracting ../Data/MNIST/raw/t10k-labels-idx1-ubyte.gz to ../Data/MNIST/raw\n",
            "Processing...\n",
            "Done!\n"
          ],
          "name": "stdout"
        },
        {
          "output_type": "stream",
          "text": [
            "/usr/local/lib/python3.6/dist-packages/torchvision/datasets/mnist.py:469: UserWarning: The given NumPy array is not writeable, and PyTorch does not support non-writeable tensors. This means you can write to the underlying (supposedly non-writeable) NumPy array using the tensor. You may want to copy the array to protect its data or make it writeable before converting it to a tensor. This type of warning will be suppressed for the rest of this program. (Triggered internally at  /pytorch/torch/csrc/utils/tensor_numpy.cpp:141.)\n",
            "  return torch.from_numpy(parsed.astype(m[2], copy=False)).view(*s)\n"
          ],
          "name": "stderr"
        }
      ]
    },
    {
      "cell_type": "code",
      "metadata": {
        "id": "JjX71-3v0m6O"
      },
      "source": [
        "import matplotlib.pyplot as plt\n",
        "\n",
        "def binact(tensor):\n",
        "  tensor = np.sign(tensor)+1\n",
        "  tensor = tensor/2\n",
        "  return tensor\n",
        "\n",
        "def mysoft(z):\n",
        "  sum = np.sum(np.exp(z))\n",
        "  output = np.zeros_like(z)\n",
        "  for i in range(len(z)):\n",
        "    temp = np.exp(z[i])\n",
        "    output[i] = temp/sum\n",
        "  res = np.argmax(output)\n",
        "  return res"
      ],
      "execution_count": null,
      "outputs": []
    },
    {
      "cell_type": "code",
      "metadata": {
        "id": "9s25DYlf0ca8"
      },
      "source": [
        ""
      ],
      "execution_count": null,
      "outputs": []
    },
    {
      "cell_type": "markdown",
      "metadata": {
        "id": "DDhtrzAQ0WDt"
      },
      "source": [
        "## **Functions**"
      ]
    },
    {
      "cell_type": "code",
      "metadata": {
        "id": "bG0-MMw_0vuN"
      },
      "source": [
        "import numpy as np\n",
        "import time\n",
        "!pip install z3-solver\n",
        "from z3 import *"
      ],
      "execution_count": null,
      "outputs": []
    },
    {
      "cell_type": "code",
      "metadata": {
        "id": "IAhoXSrNj6do"
      },
      "source": [
        "#\n",
        "fc1weight = np.load(\"./fc1weight.npy\")\n",
        "fc2weight = np.load(\"./fc2weight.npy\")"
      ],
      "execution_count": null,
      "outputs": []
    },
    {
      "cell_type": "code",
      "metadata": {
        "id": "5wuRdR3U05Ps"
      },
      "source": [
        "# z3solve formulates the sat for the network. here i have 3 layers.\n",
        "# Input (784 nodes) -> 1 fully connected layer (300 nodes) -> Output (10 nodes)\n",
        "\n",
        "def z3solve(toggle,img,id,fc1weight,fc2weight,y_test):\n",
        "  s = z3.Solver()\n",
        "  bit = 784\n",
        "  xgen = [Bool(\"Xgen{0}\".format(x)) for x in range(bit)]\n",
        "  xinp = [Bool(\"Xinp{0}\".format(x)) for x in range(bit)]\n",
        "  for i in range(bit):\n",
        "    xinp[i] = bool(img[i])\n",
        "\n",
        "  #doing XOR with input and random variables. PbEq mean sum of the XOR output = toggled inputs\n",
        "\n",
        "  clause = []\n",
        "\n",
        "  for i in range(len(xinp)):\n",
        "    clause.append(Xor(xgen[i], xinp[i]))  \n",
        "  s.add(PbEq([(x,1) for x in clause],toggle))\n",
        "\n",
        "  z = [Bool(\"Z{0}\".format(x)) for x in range(300)]\n",
        "  y = [Bool(\"Y{0}\".format(x)) for x in range(10)]\n",
        "\n",
        "\n",
        "  node1 = []\n",
        "  for node in range(300):\n",
        "    bsat = 0\n",
        "    clause1 = []\n",
        "    for i in range(bit):\n",
        "      if (fc1weight[node][i] == -1):\n",
        "        bsat = bsat + 1\n",
        "        clause1.append(Not(xgen[i]))\n",
        "      else:\n",
        "        clause1.append(xgen[i])\n",
        "\n",
        "    #this is the hidden layer\n",
        "\n",
        "    s.add(If(PbGe([(x,1) for x in clause1],bsat),z[node]==True,z[node]==False))\n",
        "\n",
        "   \n",
        "  #the final output layer \n",
        "\n",
        "  for node in range(10):\n",
        "    bsat = 0\n",
        "    clause3 = []\n",
        "\n",
        "    for i in range(300):\n",
        "      if (fc2weight[node][i] == -1):\n",
        "        bsat = bsat + 1\n",
        "        clause3.append(Not(z[i]))\n",
        "      else:\n",
        "        clause3.append(z[i])\n",
        "\n",
        "\n",
        "    s.add(If(PbGe([(x,1) for x in clause3],bsat),y[node]==True,y[node]==False))\n",
        "\n",
        "\n",
        "  #condition so that real label is not predicted \n",
        "\n",
        "  final = []\n",
        "  for i in range(10):\n",
        "    final.append(y[i]) \n",
        "  s.add(PbEq([(x,1) for x in final],1))\n",
        "  label = y_test[id]\n",
        "  s.add(y[label]==False)\n",
        "\n",
        "  return s,xgen\n"
      ],
      "execution_count": null,
      "outputs": []
    },
    {
      "cell_type": "code",
      "metadata": {
        "id": "BoBJevs205P1"
      },
      "source": [
        "#sets the timeout and checks if the equation is satisfiable\n",
        "\n",
        "def check(s,t):\n",
        "  flag=0\n",
        "  start = time.time()\n",
        "  s.set(timeout=1000*t)\n",
        "  s.check()\n",
        "  end = time.time()\n",
        "  print(f'{end-start} seconds')\n",
        "  # s.model()\n",
        "  if (end-start)>=t:\n",
        "    flag = 1\n",
        "  return s,flag"
      ],
      "execution_count": null,
      "outputs": []
    },
    {
      "cell_type": "code",
      "metadata": {
        "id": "hhcwH1TO3Ybm"
      },
      "source": [
        "#evaluates the model and decodes input from it storing in 'new' variable\n",
        "\n",
        "def evalmodel(s,xgen):\n",
        "  \n",
        "  temp = []\n",
        "  m = s.model()\n",
        "  for i in range(784):    \n",
        "    if m.evaluate(xgen[i]) == True:\n",
        "      temp.append(1)\n",
        "    else:\n",
        "      temp.append(0)\n",
        "  new = np.array(temp)\n",
        "  return new\n"
      ],
      "execution_count": null,
      "outputs": []
    },
    {
      "cell_type": "code",
      "metadata": {
        "id": "_BXx96AV3Afc"
      },
      "source": [
        "#takes the generated perturbed image to check the wrong classification \n",
        "\n",
        "def predict(new,id):\n",
        "  # flag = 0\n",
        "  wrong = 0\n",
        "  xnew = new\n",
        "  y = np.matmul(fc1weight,xnew)\n",
        "  y = binact(y)\n",
        "  z = np.matmul(fc2weight,y)\n",
        "  pred = mysoft(z)\n",
        "  label = y_test[id].numpy()\n",
        "  if (pred!=label):\n",
        "    print(f'{label} is predicting {pred}')\n",
        "    wrong = 1\n",
        "  else:\n",
        "    print(f'{label} is predicting {pred}')\n",
        "    # flag = 1\n",
        "  return wrong"
      ],
      "execution_count": null,
      "outputs": []
    },
    {
      "cell_type": "markdown",
      "metadata": {
        "id": "Edl320FwnwOr"
      },
      "source": [
        "Inside the Result section (toggle, t, start_id, end_id) can be changed"
      ]
    },
    {
      "cell_type": "markdown",
      "metadata": {
        "id": "f39giGbT0ZxG"
      },
      "source": [
        "## **Result**"
      ]
    },
    {
      "cell_type": "code",
      "metadata": {
        "id": "YHxVj7At0c7K",
        "outputId": "54ab74ca-02c9-497b-e93e-044a604707e9",
        "colab": {
          "base_uri": "https://localhost:8080/",
          "height": 1000
        }
      },
      "source": [
        "# no of toggle pixels\n",
        "toggle = 25 \n",
        "\n",
        "# 100 second timeout\n",
        "t = 100 \n",
        "\n",
        "tot_wrong = 0\n",
        "\n",
        "start_id = 50\n",
        "end_id = 80\n",
        "\n",
        "for id in range(start_id,end_id):\n",
        "  img = X_test[id].view(784).sign().numpy()\n",
        "  s,xgen = z3solve(toggle, img, id, fc1weight, fc2weight,y_test)\n",
        "  s,flag = check(s,t)\n",
        "  if flag==0:\n",
        "    new = evalmodel(s,xgen)\n",
        "    tot_wrong = tot_wrong + predict(new,id)\n",
        "  print(f'Done {id}')\n",
        "print(f'{tot_wrong} wrong')"
      ],
      "execution_count": null,
      "outputs": [
        {
          "output_type": "stream",
          "text": [
            "100.01335287094116 seconds\n",
            "Done 50\n",
            "18.3769953250885 seconds\n",
            "3 is predicting 5\n",
            "Done 51\n",
            "96.8565456867218 seconds\n",
            "5 is predicting 3\n",
            "Done 52\n",
            "100.02497124671936 seconds\n",
            "Done 53\n",
            "88.78017592430115 seconds\n",
            "6 is predicting 2\n",
            "Done 54\n",
            "100.02368378639221 seconds\n",
            "Done 55\n",
            "100.01316809654236 seconds\n",
            "Done 56\n",
            "100.02217817306519 seconds\n",
            "Done 57\n",
            "50.74818968772888 seconds\n",
            "9 is predicting 7\n",
            "Done 58\n",
            "32.797038078308105 seconds\n",
            "5 is predicting 7\n",
            "Done 59\n",
            "100.02525591850281 seconds\n",
            "Done 60\n",
            "100.02107238769531 seconds\n",
            "Done 61\n",
            "62.63508129119873 seconds\n",
            "9 is predicting 2\n",
            "Done 62\n",
            "100.01655530929565 seconds\n",
            "Done 63\n",
            "62.20276379585266 seconds\n",
            "7 is predicting 3\n",
            "Done 64\n",
            "100.02043175697327 seconds\n",
            "Done 65\n",
            "89.19730997085571 seconds\n",
            "6 is predicting 3\n",
            "Done 66\n",
            "48.09654521942139 seconds\n",
            "4 is predicting 7\n",
            "Done 67\n",
            "100.01779556274414 seconds\n",
            "Done 68\n",
            "100.02158164978027 seconds\n",
            "Done 69\n",
            "100.01849627494812 seconds\n",
            "Done 70\n",
            "100.02834224700928 seconds\n",
            "Done 71\n",
            "100.0215117931366 seconds\n",
            "Done 72\n",
            "24.017374515533447 seconds\n",
            "9 is predicting 7\n",
            "Done 73\n",
            "100.02418875694275 seconds\n",
            "Done 74\n",
            "100.01541328430176 seconds\n",
            "Done 75\n",
            "100.02215552330017 seconds\n",
            "Done 76\n",
            "39.25290632247925 seconds\n",
            "2 is predicting 7\n",
            "Done 77\n",
            "100.01301074028015 seconds\n",
            "Done 78\n",
            "100.02629494667053 seconds\n",
            "Done 79\n",
            "11 wrong\n"
          ],
          "name": "stdout"
        }
      ]
    },
    {
      "cell_type": "code",
      "metadata": {
        "id": "CnjvjuQMxdMY",
        "outputId": "5d91f15a-24f8-403f-d1db-d6e9392b2174",
        "colab": {
          "base_uri": "https://localhost:8080/",
          "height": 282
        }
      },
      "source": [
        "#plot the latest misclassified image \n",
        "\n",
        "import matplotlib.pyplot as plt\n",
        "plt.imshow(new.reshape(28,28))"
      ],
      "execution_count": null,
      "outputs": [
        {
          "output_type": "execute_result",
          "data": {
            "text/plain": [
              "<matplotlib.image.AxesImage at 0x7f040b41ceb8>"
            ]
          },
          "metadata": {
            "tags": []
          },
          "execution_count": 25
        },
        {
          "output_type": "display_data",
          "data": {
            "image/png": "[encoded data removed]",
            "text/plain": [
              "<Figure size 432x288 with 1 Axes>"
            ]
          },
          "metadata": {
            "tags": [],
            "needs_background": "light"
          }
        }
      ]
    },
    {
      "cell_type": "code",
      "metadata": {
        "id": "QMNiDAanhNfv",
        "outputId": "5ae65fbd-cad9-4e26-dbb7-47e9dcfc9ba3",
        "colab": {
          "base_uri": "https://localhost:8080/",
          "height": 282
        }
      },
      "source": [
        "# plt.imshow(X_test[77].sign().view(28,28).numpy())"
      ],
      "execution_count": null,
      "outputs": [
        {
          "output_type": "execute_result",
          "data": {
            "text/plain": [
              "<matplotlib.image.AxesImage at 0x7f040b49e6d8>"
            ]
          },
          "metadata": {
            "tags": []
          },
          "execution_count": 26
        },
        {
          "output_type": "display_data",
          "data": {
            "image/png": "[encoded data removed]",
            "text/plain": [
              "<Figure size 432x288 with 1 Axes>"
            ]
          },
          "metadata": {
            "tags": [],
            "needs_background": "light"
          }
        }
      ]
    }
  ]
}